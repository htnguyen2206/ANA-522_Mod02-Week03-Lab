{
 "cells": [
  {
   "cell_type": "code",
   "execution_count": 62,
   "id": "5928d232-fc7a-4a9e-8a93-2187029a721e",
   "metadata": {},
   "outputs": [
    {
     "name": "stdout",
     "output_type": "stream",
     "text": [
      "[0. 0. 0. 0. 0. 0. 0. 0. 0. 0. 0. 0. 0. 0. 0. 0. 0. 0. 0. 0. 0. 0. 0. 0.\n",
      " 0. 0. 0. 0. 0. 0. 0. 0. 0. 0. 0. 0. 0. 0. 0. 0.]\n"
     ]
    }
   ],
   "source": [
    "#1: Create a null vector (zeros) of size 40\n",
    "import numpy as np\n",
    "A1=np.zeros(40)\n",
    "print(A1)"
   ]
  },
  {
   "cell_type": "code",
   "execution_count": 61,
   "id": "cc6f1bf3-6738-4dc3-aaa7-474a3c3b1561",
   "metadata": {},
   "outputs": [
    {
     "name": "stdout",
     "output_type": "stream",
     "text": [
      "[[0. 0. 0. 0. 0.]\n",
      " [0. 0. 0. 0. 0.]\n",
      " [0. 0. 0. 0. 0.]\n",
      " [0. 0. 0. 0. 0.]\n",
      " [0. 0. 0. 0. 0.]\n",
      " [0. 0. 0. 0. 0.]\n",
      " [0. 0. 0. 0. 0.]\n",
      " [0. 0. 0. 0. 0.]]\n"
     ]
    }
   ],
   "source": [
    "A2=np.zeros((8,5))\n",
    "print(A2)"
   ]
  },
  {
   "cell_type": "code",
   "execution_count": 60,
   "id": "622dc749-18c4-4aa4-8570-01be353a907f",
   "metadata": {},
   "outputs": [
    {
     "name": "stdout",
     "output_type": "stream",
     "text": [
      "[[0. 0. 1. 0. 0.]\n",
      " [0. 0. 1. 0. 0.]\n",
      " [0. 0. 1. 0. 0.]\n",
      " [0. 0. 1. 0. 0.]\n",
      " [0. 0. 1. 0. 0.]\n",
      " [0. 0. 1. 0. 0.]\n",
      " [0. 0. 1. 0. 0.]\n",
      " [0. 0. 1. 0. 0.]]\n"
     ]
    }
   ],
   "source": [
    "A3=A2.copy()\n",
    "A3[:,2]=1\n",
    "print(A3)"
   ]
  },
  {
   "cell_type": "code",
   "execution_count": 59,
   "id": "37ec6df8-f495-461c-8cf3-127b0c3b3db3",
   "metadata": {},
   "outputs": [
    {
     "name": "stdout",
     "output_type": "stream",
     "text": [
      "[ 1  2  3  4  5  6  7  8  9 10 11 12 13 14 15 16 17 18 19 20 21 22 23 24\n",
      " 25 26 27 28 29 30 31 32 33 34 35 36 37 38 39 40]\n"
     ]
    }
   ],
   "source": [
    "#2. Create a vector with values ranging from 1 to 40\n",
    "B1=np.arange(1,41)\n",
    "print(B1)"
   ]
  },
  {
   "cell_type": "code",
   "execution_count": 58,
   "id": "a5d8cdfa-39d7-46a7-9a46-bc7cdad1a306",
   "metadata": {},
   "outputs": [
    {
     "name": "stdout",
     "output_type": "stream",
     "text": [
      "[[ 1  2  3  4  5]\n",
      " [ 6  7  8  9 10]\n",
      " [11 12 13 14 15]\n",
      " [16 17 18 19 20]\n",
      " [21 22 23 24 25]\n",
      " [26 27 28 29 30]\n",
      " [31 32 33 34 35]\n",
      " [36 37 38 39 40]]\n"
     ]
    }
   ],
   "source": [
    "#create in two dimenion with 8 rows and 5 columns, as array B2\n",
    "B2=np.arange(1,41).reshape((8,5))\n",
    "print(B2)"
   ]
  },
  {
   "cell_type": "code",
   "execution_count": 57,
   "id": "fdb168c5-7070-49ae-b375-6c1d2e9fd643",
   "metadata": {},
   "outputs": [
    {
     "name": "stdout",
     "output_type": "stream",
     "text": [
      "[[ 1.  2.  4.  4.  5.]\n",
      " [ 6.  7.  9.  9. 10.]\n",
      " [11. 12. 14. 14. 15.]\n",
      " [16. 17. 19. 19. 20.]\n",
      " [21. 22. 24. 24. 25.]\n",
      " [26. 27. 29. 29. 30.]\n",
      " [31. 32. 34. 34. 35.]\n",
      " [36. 37. 39. 39. 40.]]\n"
     ]
    }
   ],
   "source": [
    "#create a new array B3 by adding B2 with A3 (,or increase all values of fourth column of B2 by 1)\n",
    "B3=B2+A3\n",
    "print(B3)\n"
   ]
  },
  {
   "cell_type": "code",
   "execution_count": 56,
   "id": "681b3bad-524f-473d-bebf-a7c8b0cc82d5",
   "metadata": {},
   "outputs": [
    {
     "name": "stdout",
     "output_type": "stream",
     "text": [
      "[[-10.  -9.  -7.  -7.  -6.]\n",
      " [ -5.  -4.  -2.  -2.  -1.]\n",
      " [  0.   1.   3.   3.   4.]\n",
      " [  5.   6.   8.   8.   9.]\n",
      " [ 10.  11.  13.  13.  14.]\n",
      " [ 15.  16.  18.  18.  19.]\n",
      " [ 20.  21.  23.  23.  24.]\n",
      " [ 25.  26.  28.  28.  29.]]\n"
     ]
    }
   ],
   "source": [
    "#create a new array B4 with the values from B3 subtracted by 11\n",
    "B4= B3-11\n",
    "print(B4)"
   ]
  },
  {
   "cell_type": "code",
   "execution_count": 55,
   "id": "56a1de36-8e50-47db-83f7-5e7bdd22b145",
   "metadata": {},
   "outputs": [
    {
     "name": "stdout",
     "output_type": "stream",
     "text": [
      "[[0 1 0 1 0 1 0 1 0 1 0 1]\n",
      " [1 0 1 0 1 0 1 0 1 0 1 0]\n",
      " [0 1 0 1 0 1 0 1 0 1 0 1]\n",
      " [1 0 1 0 1 0 1 0 1 0 1 0]\n",
      " [0 1 0 1 0 1 0 1 0 1 0 1]\n",
      " [1 0 1 0 1 0 1 0 1 0 1 0]\n",
      " [0 1 0 1 0 1 0 1 0 1 0 1]\n",
      " [1 0 1 0 1 0 1 0 1 0 1 0]\n",
      " [0 1 0 1 0 1 0 1 0 1 0 1]\n",
      " [1 0 1 0 1 0 1 0 1 0 1 0]\n",
      " [0 1 0 1 0 1 0 1 0 1 0 1]\n",
      " [1 0 1 0 1 0 1 0 1 0 1 0]]\n"
     ]
    }
   ],
   "source": [
    "# 3. Create a 12x12 matrix and fill it with a checkerboard pattern\n",
    "# first row and first column starts from 0\n",
    "x=np.zeros((12,12),dtype=int)\n",
    "x[1::2,::2]=1\n",
    "x[::2,1::2]=1\n",
    "print(x)\n"
   ]
  },
  {
   "cell_type": "code",
   "execution_count": 54,
   "id": "cf2b9230-4cf3-4dde-84a4-29aac65fe02d",
   "metadata": {},
   "outputs": [
    {
     "name": "stdout",
     "output_type": "stream",
     "text": [
      "[[1 0 1 0 1 0 1 0 1 0 1 0]\n",
      " [0 1 0 1 0 1 0 1 0 1 0 1]\n",
      " [1 0 1 0 1 0 1 0 1 0 1 0]\n",
      " [0 1 0 1 0 1 0 1 0 1 0 1]\n",
      " [1 0 1 0 1 0 1 0 1 0 1 0]\n",
      " [0 1 0 1 0 1 0 1 0 1 0 1]\n",
      " [1 0 1 0 1 0 1 0 1 0 1 0]\n",
      " [0 1 0 1 0 1 0 1 0 1 0 1]\n",
      " [1 0 1 0 1 0 1 0 1 0 1 0]\n",
      " [0 1 0 1 0 1 0 1 0 1 0 1]\n",
      " [1 0 1 0 1 0 1 0 1 0 1 0]\n",
      " [0 1 0 1 0 1 0 1 0 1 0 1]]\n"
     ]
    }
   ],
   "source": [
    "#first row and first column starts from 1\n",
    "x=np.ones((12,12),dtype=int)\n",
    "x[1::2,::2]=0\n",
    "x[::2,1::2]=0\n",
    "print(x)"
   ]
  },
  {
   "cell_type": "code",
   "execution_count": 53,
   "id": "0bb9cea0-64cf-4a70-a279-933cc6eca874",
   "metadata": {},
   "outputs": [
    {
     "name": "stdout",
     "output_type": "stream",
     "text": [
      "[[1 1 1 1 1 1 1 1 1 1 1 1]\n",
      " [1 1 1 1 1 1 1 1 1 1 1 1]\n",
      " [1 1 1 1 1 1 1 1 1 1 1 1]\n",
      " [1 1 1 1 1 1 1 1 1 1 1 1]\n",
      " [1 1 1 1 1 1 1 1 1 1 1 1]\n",
      " [1 1 1 1 1 1 1 1 1 1 1 1]\n",
      " [1 1 1 1 1 1 1 1 1 1 1 1]\n",
      " [1 1 1 1 1 1 1 1 1 1 1 1]\n",
      " [1 1 1 1 1 1 1 1 1 1 1 1]\n",
      " [1 1 1 1 1 1 1 1 1 1 1 1]\n",
      " [1 1 1 1 1 1 1 1 1 1 1 1]\n",
      " [1 1 1 1 1 1 1 1 1 1 1 1]]\n"
     ]
    }
   ],
   "source": [
    "#with all numbers are 1 (integer)\n",
    "x=np.ones((12,12),dtype=int)\n",
    "print(x)"
   ]
  },
  {
   "cell_type": "code",
   "execution_count": 52,
   "id": "3ea1c0ce-f636-4191-9052-c6516fba7977",
   "metadata": {},
   "outputs": [
    {
     "name": "stdout",
     "output_type": "stream",
     "text": [
      "[[1. 1. 1. 1. 1. 1. 1. 1. 1. 1. 1. 1.]\n",
      " [1. 1. 1. 1. 1. 1. 1. 1. 1. 1. 1. 1.]\n",
      " [1. 1. 1. 1. 1. 1. 1. 1. 1. 1. 1. 1.]\n",
      " [1. 1. 1. 1. 1. 1. 1. 1. 1. 1. 1. 1.]\n",
      " [1. 1. 1. 1. 1. 1. 1. 1. 1. 1. 1. 1.]\n",
      " [1. 1. 1. 1. 1. 1. 1. 1. 1. 1. 1. 1.]\n",
      " [1. 1. 1. 1. 1. 1. 1. 1. 1. 1. 1. 1.]\n",
      " [1. 1. 1. 1. 1. 1. 1. 1. 1. 1. 1. 1.]\n",
      " [1. 1. 1. 1. 1. 1. 1. 1. 1. 1. 1. 1.]\n",
      " [1. 1. 1. 1. 1. 1. 1. 1. 1. 1. 1. 1.]\n",
      " [1. 1. 1. 1. 1. 1. 1. 1. 1. 1. 1. 1.]\n",
      " [1. 1. 1. 1. 1. 1. 1. 1. 1. 1. 1. 1.]]\n"
     ]
    }
   ],
   "source": [
    " # with all numbers are 1.0 (floating-point)\n",
    " x=np.ones((12,12),dtype=float)\n",
    "print(x)  "
   ]
  },
  {
   "cell_type": "code",
   "execution_count": 65,
   "id": "b93e8e16-af6a-4ba5-9b7d-b1e1977eedd5",
   "metadata": {},
   "outputs": [
    {
     "name": "stdout",
     "output_type": "stream",
     "text": [
      "[[0. 1. 2. 3. 4. 5. 6.]\n",
      " [0. 1. 2. 3. 4. 5. 6.]\n",
      " [0. 1. 2. 3. 4. 5. 6.]\n",
      " [0. 1. 2. 3. 4. 5. 6.]\n",
      " [0. 1. 2. 3. 4. 5. 6.]\n",
      " [0. 1. 2. 3. 4. 5. 6.]\n",
      " [0. 1. 2. 3. 4. 5. 6.]]\n"
     ]
    }
   ],
   "source": [
    "# 4. Create 7x7 matrixes\n",
    "#P matrix with row values ranging from 0 to 6\n",
    "x=np.zeros((7,7))\n",
    "x +=np.arange(7)\n",
    "print(x)"
   ]
  },
  {
   "cell_type": "code",
   "execution_count": 66,
   "id": "34e2eabc-c5bb-43a9-bc4c-71e012b03585",
   "metadata": {},
   "outputs": [
    {
     "name": "stdout",
     "output_type": "stream",
     "text": [
      "[[0. 0. 0. 0. 0. 0. 0.]\n",
      " [1. 1. 1. 1. 1. 1. 1.]\n",
      " [2. 2. 2. 2. 2. 2. 2.]\n",
      " [3. 3. 3. 3. 3. 3. 3.]\n",
      " [4. 4. 4. 4. 4. 4. 4.]\n",
      " [5. 5. 5. 5. 5. 5. 5.]\n",
      " [6. 6. 6. 6. 6. 6. 6.]]\n"
     ]
    }
   ],
   "source": [
    "# Q matrix with column values ranging from 0 to 6\n",
    "x=np.zeros((7,7))\n",
    "x +=np.arange(7)\n",
    "y=x.transpose()\n",
    "print(y)"
   ]
  },
  {
   "cell_type": "code",
   "execution_count": 69,
   "id": "05f878cb-0142-4898-9531-ad33e3fcfa11",
   "metadata": {},
   "outputs": [
    {
     "name": "stdout",
     "output_type": "stream",
     "text": [
      "[[ 0.  0.  0.  0.  0.  0.  0.]\n",
      " [ 1.  1.  1.  1.  1.  1.  1.]\n",
      " [ 3.  3.  3.  3.  3.  3.  3.]\n",
      " [ 6.  6.  6.  6.  6.  6.  6.]\n",
      " [10. 10. 10. 10. 10. 10. 10.]\n",
      " [15. 15. 15. 15. 15. 15. 15.]\n",
      " [21. 21. 21. 21. 21. 21. 21.]]\n"
     ]
    }
   ],
   "source": [
    "# R matrix with cumulative sum from previous row of matrix Q\n",
    "x=np.zeros((7,7))\n",
    "x +=np.arange(7)\n",
    "y=x.transpose()\n",
    "z=y.cumsum(0)\n",
    "print(z)"
   ]
  },
  {
   "cell_type": "code",
   "execution_count": 75,
   "id": "109550a2-1d5e-47cd-9f9f-bded7289f906",
   "metadata": {},
   "outputs": [
    {
     "name": "stdout",
     "output_type": "stream",
     "text": [
      "[[ 0.  0.  0.  0.  0.  0.  0.]\n",
      " [ 1.  2.  3.  4.  5.  6.  7.]\n",
      " [ 2.  4.  6.  8. 10. 12. 14.]\n",
      " [ 3.  6.  9. 12. 15. 18. 21.]\n",
      " [ 4.  8. 12. 16. 20. 24. 28.]\n",
      " [ 5. 10. 15. 20. 25. 30. 35.]\n",
      " [ 6. 12. 18. 24. 30. 36. 42.]]\n"
     ]
    }
   ],
   "source": [
    "# S matrix with cumulative sum from previous column of matrix Q\n",
    "x=np.zeros((7,7))\n",
    "x +=np.arange(7)\n",
    "y=x.transpose()\n",
    "t=y.cumsum(1)\n",
    "print(t)"
   ]
  },
  {
   "cell_type": "code",
   "execution_count": 76,
   "id": "5c20d244-8873-4b63-af5d-f1f494e8f040",
   "metadata": {},
   "outputs": [
    {
     "name": "stdout",
     "output_type": "stream",
     "text": [
      "[  0.   0.   0.   0.   0.   0.   0.   1.   2.   3.   4.   5.   6.   7.\n",
      "   9.  11.  13.  15.  17.  19.  21.  24.  27.  30.  33.  36.  39.  42.\n",
      "  46.  50.  54.  58.  62.  66.  70.  75.  80.  85.  90.  95. 100. 105.\n",
      " 111. 117. 123. 129. 135. 141. 147.]\n"
     ]
    }
   ],
   "source": [
    "# T list with cumulative sun from previous value rolled out in order of row and column from matrix Q\n",
    "x=np.zeros((7,7))\n",
    "x +=np.arange(7)\n",
    "y=x.transpose()\n",
    "t=y.cumsum()\n",
    "print(t)"
   ]
  },
  {
   "cell_type": "code",
   "execution_count": 80,
   "id": "3e1a1bf9-7e42-4ebd-a678-14e1d4eb1d36",
   "metadata": {},
   "outputs": [
    {
     "name": "stdout",
     "output_type": "stream",
     "text": [
      "[[36 91 22  0 17 23 58 80 21 37 84 17]\n",
      " [70 25 94 37 22 63 33 29  6 61 24 45]\n",
      " [27 32 94 40 89 90 32 63 93 56 74 46]]\n"
     ]
    }
   ],
   "source": [
    "#  5. Create a matrix, block segments, and integrations\n",
    "# create matrix X of 3 rows and 12 columns of random integers range [0,100]\n",
    "X=np.random.randint(100, size=(3,12))\n",
    "print(X)\n"
   ]
  },
  {
   "cell_type": "code",
   "execution_count": 82,
   "id": "b4582055-95d4-42fc-bedd-434b4ca096b2",
   "metadata": {},
   "outputs": [
    {
     "name": "stdout",
     "output_type": "stream",
     "text": [
      "[[18 45 21 68 99 39 32 57 40 51 62 82]\n",
      " [93 57 39 34 12 29 87  8 26 57 85 51]\n",
      " [26 53 83 33 26 58 20 89 36 13 74 91]]\n",
      "[[18 45 21]\n",
      " [93 57 39]\n",
      " [26 53 83]]\n"
     ]
    }
   ],
   "source": [
    "# create matrix XA of 3 rows and 3 columns of subset matrix of X with all rows, and the first three columns (0 to 2)\n",
    "X=np.random.randint(100, size=(3,12))\n",
    "print(X)\n",
    "XA=X[:,0:3]\n",
    "print(XA)"
   ]
  },
  {
   "cell_type": "code",
   "execution_count": 89,
   "id": "ae60bf03-433c-4e22-be0d-d7fc3ae48bd5",
   "metadata": {},
   "outputs": [
    {
     "name": "stdout",
     "output_type": "stream",
     "text": [
      "[[47 95 79 83 72 87 22 66  3  7 69 41]\n",
      " [68 18 59 12 33 90 46 85 13 50 85 10]\n",
      " [80 85 34 50 47 84 56 72  0 59 87 58]]\n",
      "[[83 72 87]\n",
      " [12 33 90]\n",
      " [50 47 84]]\n"
     ]
    }
   ],
   "source": [
    "# create matrix XB of 3 rows and 3 columns of subset matrix of X with all rows, and the second quarter columns (3 to 5)\n",
    "X=np.random.randint(100, size=(3,12))\n",
    "print(X)\n",
    "XB=X[:,3:6]\n",
    "print(XB)\n",
    "\n"
   ]
  },
  {
   "cell_type": "code",
   "execution_count": 85,
   "id": "b13b2452-7d23-4439-9fcd-4f3ba8b751f5",
   "metadata": {},
   "outputs": [
    {
     "name": "stdout",
     "output_type": "stream",
     "text": [
      "[[19 96 75 20 21 15 94 74 14 35 24 47]\n",
      " [77 22 34 53  7 43 60  9 70 55 98 37]\n",
      " [76 26 18 92 22  3 49 18 58 47 45 36]]\n",
      "[[94 74 14]\n",
      " [60  9 70]\n",
      " [49 18 58]]\n"
     ]
    }
   ],
   "source": [
    "# create matrix XC of 3 rows and 3 columns of subset matrix of X with all rows, and tbe third quarter columns (6 to 8)\n",
    "X=np.random.randint(100, size=(3,12))\n",
    "print(X)\n",
    "XC=X[:,6:9]\n",
    "print(XC)\n"
   ]
  },
  {
   "cell_type": "code",
   "execution_count": 86,
   "id": "a8040c1e-d755-42d2-88e6-ab5fbba984f2",
   "metadata": {},
   "outputs": [
    {
     "name": "stdout",
     "output_type": "stream",
     "text": [
      "[[98 26 84 41 11 32 82 56 21  7  2 97]\n",
      " [76 53 24 89 64 83 77 92 87 97  7 28]\n",
      " [88 76 42 85 68 89 30  0 55 69  7 75]]\n",
      "[[ 7  2 97]\n",
      " [97  7 28]\n",
      " [69  7 75]]\n"
     ]
    }
   ],
   "source": [
    "#  create matrix XD of 3 rows and 3 columns of subset matrix of X with all rows, and tbe fourth quarter columns (9 to 11)\n",
    "X=np.random.randint(100, size=(3,12))\n",
    "print(X)\n",
    "XD=X[:,9:12]\n",
    "print(XD)"
   ]
  },
  {
   "cell_type": "code",
   "execution_count": 95,
   "id": "e021f1ea-5995-44ad-a7e4-ed999969d8d6",
   "metadata": {},
   "outputs": [
    {
     "name": "stdout",
     "output_type": "stream",
     "text": [
      "[[97 15  1 28 79 82 30  5 76  9  0 98]\n",
      " [27 10 90 60  9 17 59 43  1 19 12 42]\n",
      " [46 29 55 98  7 61 57 30 88  4 51 47]]\n"
     ]
    }
   ],
   "source": [
    "# Create matrix Y of 3 rows and 12 columns by putting together in the order of XD XA XB XC from column index 0 to 11\n",
    "X=np.random.randint(100, size=(3,12))\n",
    "XA=X[:,0:3]\n",
    "XB=X[:,3:6]\n",
    "Y = np.concatenate((XA,XB,XC,XD)).transpose()\n",
    "print(Y)\n"
   ]
  },
  {
   "cell_type": "code",
   "execution_count": 93,
   "id": "b2197b69-1b89-413f-bf06-dfbd3874bd01",
   "metadata": {},
   "outputs": [
    {
     "name": "stdout",
     "output_type": "stream",
     "text": [
      "[[30 28  4]\n",
      " [70 25  0]\n",
      " [76  6 93]\n",
      " [18 16  8]\n",
      " [77 61 58]\n",
      " [36 44 66]\n",
      " [30 59 57]\n",
      " [ 5 43 30]\n",
      " [76  1 88]\n",
      " [ 9 19  4]\n",
      " [ 0 12 51]\n",
      " [98 42 47]]\n"
     ]
    }
   ],
   "source": [
    "#  create matrix Z of 12 rows and 3 columns by putting together vertically in the order of XD XA XB XC\n",
    "X=np.random.randint(100, size=(3,12))\n",
    "XA=X[:,0:3]\n",
    "XB=X[:,3:6]\n",
    "XC=X[:,6:9]\n",
    "XD=X[:,9:12]\n",
    "Z = np.concatenate((XA,XB,XC,XD))\n",
    "print(Z)"
   ]
  },
  {
   "cell_type": "code",
   "execution_count": 103,
   "id": "004a7bb2-c2fc-460b-8750-ac3307f95771",
   "metadata": {},
   "outputs": [
    {
     "name": "stdout",
     "output_type": "stream",
     "text": [
      "[[1 2]\n",
      " [3 4]\n",
      " [5 6]\n",
      " [7 8]]\n",
      "[[ 9 10 11 12]\n",
      " [13 14 15 16]]\n",
      "[[ 35  38  41  44]\n",
      " [ 79  86  93 100]\n",
      " [123 134 145 156]\n",
      " [167 182 197 212]]\n"
     ]
    }
   ],
   "source": [
    "#  6. Create the following two matrixes in the program\n",
    "A=np.array([[1,2],[3,4],[5,6],[7,8]])\n",
    "print(A)\n",
    "B=np.array([[9,10,11,12],[13,14,15,16]])\n",
    "print(B)\n",
    "D=[[sum(a * b for a, b in zip(A_row, B_col))\n",
    "                        for B_col in zip(*B)]\n",
    "                                for A_row in A]\n",
    "C=np.array(D)\n",
    "print(C)"
   ]
  },
  {
   "cell_type": "code",
   "execution_count": null,
   "id": "58ed332b-ac5f-49cd-b14b-1839eb2f92f0",
   "metadata": {},
   "outputs": [],
   "source": []
  }
 ],
 "metadata": {
  "kernelspec": {
   "display_name": "ANA522 (default)",
   "language": "python",
   "name": "ada522"
  },
  "language_info": {
   "codemirror_mode": {
    "name": "ipython",
    "version": 3
   },
   "file_extension": ".py",
   "mimetype": "text/x-python",
   "name": "python",
   "nbconvert_exporter": "python",
   "pygments_lexer": "ipython3",
   "version": "3.8.5"
  }
 },
 "nbformat": 4,
 "nbformat_minor": 5
}
